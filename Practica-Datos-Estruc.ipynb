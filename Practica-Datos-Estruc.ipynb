{
  "cells": [
    {
      "cell_type": "markdown",
      "metadata": {
        "id": "EoKTspwI9P8q"
      },
      "source": [
        "## DATOS ESTRUCTURADOS: STRINGS Y LISTAS\n",
        "## EJERCICIOS CON STRINGS\n",
        "\n",
        "### **Ejercicio 1**\n",
        "--------\n",
        "1. **Identificador válido.** Para que los identificadores o nombres de las variables o funciones sean válidos deben comenzar e incluir letras a..z (minúscula o mayúscula) o el guión bajo (_). Pueden incluir también números (0..9) pero que no sean el primer carácter del identificador. Diseña una función FirstChar(s) que, dado un string s (no vacío), nos devuelva True o False si el string es válido o\n",
        "no para identificar o dar nombre a una variable o función1. *(0.5 puntos)*"
      ]
    },
    {
      "cell_type": "code",
      "execution_count": 11,
      "metadata": {
        "colab": {
          "base_uri": "https://localhost:8080/"
        },
        "id": "Fwuv_K2keqRu",
        "outputId": "12a7317b-ee08-4f70-dea1-16056a8ccc7b"
      },
      "outputs": [
        {
          "name": "stdout",
          "output_type": "stream",
          "text": [
            "True\n"
          ]
        }
      ],
      "source": [
        "def FirstChar(s):\n",
        "    \"\"\"\n",
        "    Verifico si el string ingresado s no está vacío utilizando la función len() en la estructura de control if\n",
        "    * len() determina el número de items en un objeto, si este está vacío len() == 0\n",
        "    \"\"\"\n",
        "    if len(s) == 0:\n",
        "        return False\n",
        "    else:\n",
        "        \"\"\"\n",
        "        Verifico si el primer caracter del string s es una letra del alfabeto (utilizo isalpha) o el guión bajo\n",
        "        * El método isalpha devuelve True si todos los caracteres son letras del alfabeto (a-z)\n",
        "        \"\"\"\n",
        "        if s[0].isalpha() or s[0] == \"_\":\n",
        "            # Verifico el resto del string utilizando el ciclo for\n",
        "            for char in s[1:]:\n",
        "                \"\"\"\n",
        "                Verifico caracter a caracter si es alfanumerico (utilizo isalnum) o guión bajo\n",
        "                * El método isalnum() devuelve True si todos los caracteres del string son alfanuméricos (letras o números 0..9) y False si al menos uno no lo es.\n",
        "                \"\"\"\n",
        "                if not (char.isalnum() or char == \"_\"):\n",
        "                    return False\n",
        "            return True\n",
        "        else:\n",
        "            return False\n",
        "\n",
        "# Código para probar la función\n",
        "\n",
        "#s = \"variable_\"\n",
        "s = \"_vari2able\"\n",
        "#s = \"variable$\"\n",
        "#s = \"1variable\"\n",
        "print(FirstChar(s))"
      ]
    },
    {
      "cell_type": "markdown",
      "metadata": {
        "id": "XjyF8SDH8UEr"
      },
      "source": [
        "### **Ejercicio 2**\n",
        "--------\n",
        "2. **Porcentaje de vocales.** Escribe una función porcentVocal(s) en que dado un string s, la función devuelva el porcentaje de vocales que contiene el string. Deben considerarse vocales minúsculas y mayúsculas. Devolver el resultado con un decimal de precisión. Consideraremos que las vocales están sin tilde o acento gráfico. Se valorará prever el caso que se envíe como argumento un string vacío. *(0,5 puntos)*"
      ]
    },
    {
      "cell_type": "code",
      "execution_count": 12,
      "metadata": {
        "colab": {
          "base_uri": "https://localhost:8080/"
        },
        "id": "exi2EbeXYsr0",
        "outputId": "4499edf6-a476-4624-d5b1-91016ebdbf51"
      },
      "outputs": [
        {
          "name": "stdout",
          "output_type": "stream",
          "text": [
            "63.6\n"
          ]
        }
      ],
      "source": [
        "def porcentVocal(s):\n",
        "    # Si la cadena esta vacia entonces el % de vocales es cero. Verifico.\n",
        "    if len(s) == 0:\n",
        "        return 0\n",
        "    else:\n",
        "        # Recorro el string sumando las vocales que encuentro\n",
        "        contar_vocales = sum(1 for char in s if char.lower() in \"aeiouAEIOU\")\n",
        "        # len(s) es la cantidad de caracteres en el string\n",
        "        # Defino el porcentaje\n",
        "        porcentaje = (contar_vocales/len(s))*100\n",
        "        # Redondeo el valor que toma porcentaje a una cifra decimal con la función round\n",
        "        return round(porcentaje, 1)\n",
        "\n",
        "# Código para probar la función\n",
        "s= \"AnanIsimoou\"\n",
        "print (porcentVocal(s))"
      ]
    },
    {
      "cell_type": "markdown",
      "metadata": {
        "id": "ex0n3BBEeqRx"
      },
      "source": [
        "### **Ejercicio 3**\n",
        "--------\n",
        "3. **Calcula código.** Dado un string s que contiene los nombres y apellidos de una persona, diseña la función codigo(s) que devuelva el string ini + str(count), donde ini contiene las iniciales de la persona (las letras mayúsculas de s) y count es el número total de letras de sus nombres y apellidos (es decir, las letras de s sin contar caracteres blancos o espacios). *(1 punto)*"
      ]
    },
    {
      "cell_type": "code",
      "execution_count": 13,
      "metadata": {
        "colab": {
          "base_uri": "https://localhost:8080/"
        },
        "id": "MMu_9Uh6eqRx",
        "outputId": "12944328-57d7-425b-9ecb-c989ea661467"
      },
      "outputs": [
        {
          "name": "stdout",
          "output_type": "stream",
          "text": [
            "CDM12\n"
          ]
        }
      ],
      "source": [
        "def funcioncodigo(s):\n",
        "    if len(s) == 0:\n",
        "        \"\"\"\n",
        "        Si el return lo dejo vacío devuelve None.\n",
        "        Podría devolver una leyenda como la que sigue:\n",
        "        print(\"No existe codigo, no ha ingresado nombre y apellido\")\n",
        "        \"\"\"\n",
        "        return\n",
        "    else:\n",
        "        # Elimino los espacios en blanco del string y divido en palabras utilizando el método split\n",
        "        # split() divide una cadena en una lista de subcadenas\n",
        "        palabras = s.split()\n",
        "        # Obtengo las iniciales utilizando el método join\n",
        "        # join() une los elementos de una lista en una sola cadena\n",
        "        ini = \"\".join(palabra[0].upper() for palabra in palabras)\n",
        "        # Sumo la cantidad de letras en cada palabra iterada de la lista palabras sin contar espacios ni caracteres en blanco\n",
        "        contar = sum(len(palabra) for palabra in palabras)\n",
        "        # Concatena y devuelve las iniciales y la cantidad de letras\n",
        "        return ini+str(contar)\n",
        "\n",
        "# Código para probar la función diseñada\n",
        "s= \"Carla Di Monno\"\n",
        "print(funcioncodigo(s))"
      ]
    },
    {
      "cell_type": "markdown",
      "metadata": {
        "id": "LDmz-VhHeqR2"
      },
      "source": [
        "## EJERCICIOS CON LISTAS\n",
        "### **Ejercicio 4**\n",
        "----\n",
        "4. **Diseña la función mediaTempRang(lst)** en que, dada una lista lst de medidas de temperatura en ºC\n",
        "de un experimento, calcule y devuelva el valor medio de aquellas temperaturas de la lista que estén\n",
        "en el rango de 15 a 45 ºC, inclusive [15, 45]. Devolver el resultado redondeado a 2 cifras decimales.\n",
        "También considerar el caso en que ninguna medida de temperatura de la lista esté en el rango dado.\n",
        "En este caso la función devuelve el valor -1. *(1 punto)*"
      ]
    },
    {
      "cell_type": "code",
      "execution_count": 14,
      "metadata": {
        "colab": {
          "base_uri": "https://localhost:8080/"
        },
        "id": "kxo6zMRkeqR3",
        "outputId": "99fa2f1b-be78-4c3f-86a1-e455c4f57a10"
      },
      "outputs": [
        {
          "name": "stdout",
          "output_type": "stream",
          "text": [
            "30.0\n"
          ]
        }
      ],
      "source": [
        "def mediaTempRang(lst):\n",
        "    # Creo una nueva lista a partir de las temperaturas de lst que caen en el rango condición de 15 a 45 °C inclusive\n",
        "    rangotemp = [temp for temp in lst if 15 <= temp <= 45]\n",
        "    # Verifico si rangotemp está vacía, es decir no tiene temperaturas que caigan en el rango dado (lst tampoco), entonces devuelve -1\n",
        "    if not rangotemp:\n",
        "        return -1\n",
        "    # Calculo la media de temperaturas del rango usando la función sum y len\n",
        "    media = sum(rangotemp) / len(rangotemp)\n",
        "    # Redondeo el valor que toma la media a dos cifras decimales con la función round\n",
        "    return round(media,2)\n",
        "\n",
        "# Código para probar la función diseñada\n",
        "lst= [7, 15, 35, 40, 47]\n",
        "print(mediaTempRang(lst))"
      ]
    },
    {
      "cell_type": "markdown",
      "metadata": {
        "id": "SjcD42-SeqR5"
      },
      "source": [
        "### **Ejercicio 5**\n",
        "--------\n",
        "5. **Números primos.** Diseña una función en la que introduce los primeros 100 números primos en una lista. Un número primo es un número natural mayor que 1 que tiene únicamente dos divisores positivos distintos: él mismo y el 1. Se valorará la rapidez de ejecución de la función y su eficacia. *(1 punto)*"
      ]
    },
    {
      "cell_type": "code",
      "execution_count": 15,
      "metadata": {
        "colab": {
          "base_uri": "https://localhost:8080/"
        },
        "id": "4fZJkE3GeqR6",
        "outputId": "09d90d05-6a2a-4883-9f54-621013ff2717"
      },
      "outputs": [
        {
          "name": "stdout",
          "output_type": "stream",
          "text": [
            "[2, 3, 5, 7, 11, 13, 17, 19, 23, 29, 31, 37, 41, 43, 47, 53, 59, 61, 67, 71, 73, 79, 83, 89, 97, 101, 103, 107, 109, 113, 127, 131, 137, 139, 149, 151, 157, 163, 167, 173, 179, 181, 191, 193, 197, 199, 211, 223, 227, 229, 233, 239, 241, 251, 257, 263, 269, 271, 277, 281, 283, 293, 307, 311, 313, 317, 331, 337, 347, 349, 353, 359, 367, 373, 379, 383, 389, 397, 401, 409, 419, 421, 431, 433, 439, 443, 449, 457, 461, 463, 467, 479, 487, 491, 499, 503, 509, 521, 523, 541]\n"
          ]
        }
      ],
      "source": [
        "\"\"\"\n",
        "NOTA: investigando se ha encontrado que existe un algoritmo matemático que permite hallar todos los números primos menores que un número natural dado,\n",
        "denominado la criba de Erastóstenes.\n",
        "Algortitmo\n",
        "- Se crea una tabla con todos los números naturales comprendidos entre 2 y n (donde n es el número dado).\n",
        "- Comenzando por el 2, se tachan todos los múltiplos de ese número.\n",
        "- Cuando se encuentra un número que no ha sido tachado, ese número se declara primo y se procede a tachar todos sus múltiplos.\n",
        "- El proceso continúa hasta que el cuadrado del siguiente número confirmado como primo sea mayor que n.\n",
        "Se traduce a código Python este algoritmo. El número 100 primo es 541.\n",
        "\"\"\"\n",
        "def numeros_primos():\n",
        "    n = 541 # El número 100 primo es 541\n",
        "    # Creo una lista donde marcaré los números primos\n",
        "    primo = [True] * (n + 1)\n",
        "    # Los números 0 y 1 no son primos\n",
        "    primo[0] = primo[1] = False\n",
        "    # Itero sobre los números de 2 hasta el siguiente de la raíz cuadrada de n utilizando ciclo for\n",
        "    # Utilizo la función range para generar la secuencia de números entre los límites dados de a pasos de a 1 (default)\n",
        "    for i in range(2, int(n**0.5) + 1):\n",
        "        if primo[i]:\n",
        "            # Si i es primo (condición if) marco los múltiplos de i como no primos uilizando ciclo for\n",
        "            for j in range(i * i, n + 1, i):\n",
        "                primo[j] = False\n",
        "\n",
        "    # Construyo la lista de números primos utilizando un ciclo for y condición if\n",
        "    primos = [i for i in range(2, n + 1) if primo[i]][:100]\n",
        "\n",
        "    return primos\n",
        "\n",
        "# Código para probar la función diseñada\n",
        "print(numeros_primos())"
      ]
    },
    {
      "cell_type": "markdown",
      "metadata": {
        "id": "jFWqnsNeeqR9"
      },
      "source": [
        "### **Ejercicio 6**\n",
        "--------\n",
        "6. **Contar positivos.** Dada una lista de listas que representa una matriz cuadrada m, diseña una función contar_pos(m), que cuente los números positivos que tiene. *(1 punto)*"
      ]
    },
    {
      "cell_type": "code",
      "execution_count": 16,
      "metadata": {
        "colab": {
          "base_uri": "https://localhost:8080/"
        },
        "id": "wSl1doJVeqR-",
        "outputId": "eea4fd7d-cd4c-48ff-9a2c-e6dd62ce741d"
      },
      "outputs": [
        {
          "name": "stdout",
          "output_type": "stream",
          "text": [
            "5\n"
          ]
        }
      ],
      "source": [
        "def contar_pos(m):\n",
        "    # Inicializo el contador en cero\n",
        "    count = 0\n",
        "    # Utilizo el ciclo for para iterar por fila de la matriz m\n",
        "    for fila in m:\n",
        "        # Utilizo otro ciclo for indentado para iterar por elemento de cada fila\n",
        "        for i in fila:\n",
        "            # Utilizo la estructura de control if para verificar la condición de elemento positivo\n",
        "            if i > 0:\n",
        "                # Si se verifica la condición incremento en 1 el contador\n",
        "                count += 1\n",
        "    # Devuelve el valor final del contador al terminar de iterar la matriz\n",
        "    return count\n",
        "\n",
        "# Código para probar la función diseñada\n",
        "matriz = [\n",
        "    [1.3, -2.1, 3],\n",
        "    [-4, 5.6, -6.2],\n",
        "    [7.1, -8, 9.5]\n",
        "]\n",
        "\n",
        "print(contar_pos(matriz))"
      ]
    },
    {
      "cell_type": "markdown",
      "metadata": {
        "id": "DK5kr83IeqR_"
      },
      "source": [
        "## DATOS ESTRUCTURADOS: DICCIONARIOS Y DATAFRAMES\n",
        "## EJERCICIOS CON DICCIONARIOS\n",
        "\n",
        "### **Ejercicio 7**\n",
        "--------\n",
        "7. **Temperaturas ciudades.** Se tienen las temperaturas de ciudades durante los primeros 4 meses del año en una lista de listas, donde cada lista representa la información de una ciudad (nombre y luego las temperaturas). Diseña una función TempMaxMin(lst) en que, dada una lista de listas como que la que se presenta, devuelva un diccionario con los nombres de las ciudades como claves y como valores una lista con las temperaturas máxima y mínima. *(1 punto)*\n",
        "\n",
        "Lista de ciudades:\n",
        "\n",
        "lst_ciudad = [\n",
        "  ['Londres', 3.4, 6.3, 10.5, 6.8],\n",
        "  ['Oslo', -3.8, -5.0, 5.1, 4.2],\n",
        "  ['Berlin', 7.5, 4.1, 12.3, 13.0],\n",
        "  ['Málaga', 14.7, 12.3, 19.5, 18.4]\n",
        "]"
      ]
    },
    {
      "cell_type": "code",
      "execution_count": 17,
      "metadata": {
        "colab": {
          "base_uri": "https://localhost:8080/"
        },
        "id": "BJKsu4ASeqSA",
        "outputId": "bc2950b8-f407-46d8-bcb3-efc3e7410c2b"
      },
      "outputs": [
        {
          "name": "stdout",
          "output_type": "stream",
          "text": [
            "{'Londres': [10.5, 3.4], 'Oslo': [5.1, -5.0], 'Berlin': [13.0, 4.1], 'Málaga': [19.5, 12.3]}\n"
          ]
        }
      ],
      "source": [
        "def TempMaxMin(lst):\n",
        "    # Inicializo el diccionario para almacenar los datos\n",
        "    dic_temp = {}\n",
        "    # Se itera cada elemento de la lista de listas lst utilizando el ciclo for\n",
        "    for ciudad_info in lst:\n",
        "        ciudad = ciudad_info[0]\n",
        "        temperaturas = ciudad_info[1:]\n",
        "        # Calculo la máxima temperatura de la ciudad usando la función max\n",
        "        temp_max = max(temperaturas)\n",
        "        # Calculo la mínima temperatura de la ciudad usando la función min\n",
        "        temp_min = min(temperaturas)\n",
        "        # Asigno al diccionario dic_temp una entrada con clave ciudad y el valor lista que contiene la temp_max y temp_min de la misma\n",
        "        dic_temp[ciudad] = [temp_max, temp_min]\n",
        "    # Devuelve el diccionario dic_temp\n",
        "    return dic_temp\n",
        "\n",
        "# Código para probar la función diseñada\n",
        "lst_ciudad = [\n",
        "    [\"Londres\", 3.4, 6.3, 10.5, 6.8],\n",
        "    [\"Oslo\", -3.8, -5.0, 5.1, 4.2],\n",
        "    [\"Berlin\", 7.5, 4.1, 12.3, 13.0],\n",
        "    [\"Málaga\", 14.7, 12.3, 19.5, 18.4]\n",
        "]\n",
        "\n",
        "print(TempMaxMin(lst_ciudad))"
      ]
    },
    {
      "cell_type": "markdown",
      "metadata": {
        "id": "JiSlG5fheqSB"
      },
      "source": [
        "### **Ejercicio 8**\n",
        "--------\n",
        "8. **Hipertensión.** Se dispone de un diccionario de personas con su presión arterial. En cada elemento del diccionario la clave es el nombre de la persona y el valor es una lista con la edad y las presiones sistólica (alta) y diastólica (baja). Si consideramos que una persona sufre de hipertensión si la presión sistólica es mayor o igual a 140 mmHg o la diastólica es mayor o igual a 90 mmHg, diseña una función lst_hiper(dic, edad) en que, dado un diccionario dic como el descrito y una edad, devuelva la lista de los nombres de las personas menores de esa edad que sufren hipertensión arterial. Se valorará devolver la lista de nombres ordenada alfabéticamente. *(1 punto)*\n",
        "\n",
        "Diccionario de personas con los datos de Edad, presiones sistólica (alta) y presiones diastólica (baja):\n",
        "\n",
        "dpers = {'Maria': [20, 135, 90],'Nuria': [63, 141, 92], 'Jose': [47, 110, 59], 'Luis': [49, 146, 94], 'Oriol': [52, 130, 89], 'Carlos': [65, 125, 89], 'Pepe': [70, 130, 92] }"
      ]
    },
    {
      "cell_type": "code",
      "execution_count": 18,
      "metadata": {
        "colab": {
          "base_uri": "https://localhost:8080/"
        },
        "id": "F4hejvMWeqSC",
        "outputId": "6876e39c-537b-4d8c-ed65-5a25c2b8e7e7"
      },
      "outputs": [
        {
          "name": "stdout",
          "output_type": "stream",
          "text": [
            "['Maria']\n",
            "['Luis', 'Maria', 'Nuria', 'Pepe']\n"
          ]
        }
      ],
      "source": [
        "def lst_hiper(dic, edad):\n",
        "    # Inicializo la lista vacía para almacenar datos\n",
        "    personas_hipertensas = []\n",
        "    # Se itera sobre cada par clave valor en el diccionario utilizando el ciclo for\n",
        "    for nombre, info in dic.items():\n",
        "        # Se utiliza la estructura de control if para verificar ambas condiciones dadas\n",
        "        if info[0] < edad and (info[1] >= 140 or info[2] >= 90):\n",
        "            # Si se cumplen los criterios la persona se agrega a la lista de personas_hipertensas\n",
        "            personas_hipertensas.append(nombre)\n",
        "    # Devuelve la lista de personas_hipertensas después de ordenarla alfabéticamente utilizando la función sorted()\n",
        "    return sorted(personas_hipertensas)\n",
        "\n",
        "# Código para probar la función diseñada\n",
        "dpers = {\n",
        "    \"Maria\": [20, 135, 90],\n",
        "    \"Nuria\": [63, 141, 92],\n",
        "    \"Jose\": [47, 110, 59],\n",
        "    \"Luis\": [49, 146, 94],\n",
        "    \"Oriol\": [52, 130, 89],\n",
        "    \"Carlos\": [65, 125, 89],\n",
        "    \"Pepe\": [70, 130, 92],\n",
        "}\n",
        "\n",
        "print(lst_hiper(dpers, 40))  # Devuelve una lista de nombres de personas menores de 40 años con hipertensión\n",
        "print(lst_hiper(dpers, 75))  # Devuelve una lista de nombres de personas menores de 75 años con hipertensión\n",
        "\n"
      ]
    },
    {
      "cell_type": "markdown",
      "metadata": {
        "id": "8npIZN5ZeqSG"
      },
      "source": [
        "## EJERCICIOS CON DATAFRAMES\n",
        "### **Ejercicio 9**\n",
        "--------\n",
        "9. **Temperatura ciudades en DataFrame.** A partir de lst_ciudad de las temperaturas de las ciudades de los primeros 4 meses del año del ejercicio 7: *(1 punto)*\n",
        "\n",
        "a) Diseña un código para crear un objeto DataFrame que contenga en sus columnas: 'Ciudad', 'Enero', 'Febrero', 'Marzo', 'Abril' y los datos sean los valores de las listas de ciudades de lst_ciudad. Agregar como nombre del DataFrame: 'Temperatura ciudades'.\n",
        "\n",
        "b) Escribe un código para agregar la temperatura mínima, máxima, media y desviación estándar de los 4 primeros meses del año al DataFrame anterior."
      ]
    },
    {
      "cell_type": "code",
      "execution_count": 19,
      "metadata": {
        "colab": {
          "base_uri": "https://localhost:8080/"
        },
        "id": "ZPljhr8veqSH",
        "outputId": "b9026368-5afe-4960-d403-ba84a7181aa9"
      },
      "outputs": [
        {
          "name": "stdout",
          "output_type": "stream",
          "text": [
            "    Ciudad  Enero  Febrero  Marzo  Abril   Min   Max   Media  \\\n",
            "0  Londres    3.4      6.3   10.5    6.8   3.4  10.5   6.750   \n",
            "1     Oslo   -3.8     -5.0    5.1    4.2  -5.0   5.1   0.125   \n",
            "2   Berlin    7.5      4.1   12.3   13.0   4.1  13.0   9.225   \n",
            "3   Málaga   14.7     12.3   19.5   18.4  12.3  19.5  16.225   \n",
            "\n",
            "   Desviación Estándar  \n",
            "0             2.914904  \n",
            "1             5.260783  \n",
            "2             4.201091  \n",
            "3             3.326034  \n"
          ]
        }
      ],
      "source": [
        "# Importo el paquete pandas con el alias pd\n",
        "import pandas as pd\n",
        "\n",
        "# Tengo la lista lst_ciudad del ejercicio 7\n",
        "lst_ciudad = [\n",
        "    [\"Londres\", 3.4, 6.3, 10.5, 6.8],\n",
        "    [\"Oslo\", -3.8, -5.0, 5.1, 4.2],\n",
        "    [\"Berlin\", 7.5, 4.1, 12.3, 13.0],\n",
        "    [\"Málaga\", 14.7, 12.3, 19.5, 18.4]\n",
        "]\n",
        "\n",
        "# Inciso a)\n",
        "\n",
        "# Convierto la lista lst_ciudad en un DataFrame de Pandas\n",
        "df_temperaturas = pd.DataFrame(lst_ciudad, columns=['Ciudad', 'Enero', 'Febrero', 'Marzo', 'Abril'])\n",
        "# Agrego el nombre del DataFrame\n",
        "df_temperaturas.name = 'Temperatura ciudades'\n",
        "\n",
        "# Inciso b)\n",
        "\n",
        "# Calculo la temperatura mínima (min), máxima (max), media (mean) y desviación estándar (std) de los 4 primeros meses para cada ciudad y lo agregamos al DataFrame\n",
        "df_temperaturas['Min'] = df_temperaturas[['Enero', 'Febrero', 'Marzo', 'Abril']].min(axis=1)\n",
        "df_temperaturas['Max'] = df_temperaturas[['Enero', 'Febrero', 'Marzo', 'Abril']].max(axis=1)\n",
        "df_temperaturas['Media'] = df_temperaturas[['Enero', 'Febrero', 'Marzo', 'Abril']].mean(axis=1)\n",
        "df_temperaturas['Desviación Estándar'] = df_temperaturas[['Enero', 'Febrero', 'Marzo', 'Abril']].std(axis=1)\n",
        "# Imprimo el DataFrame resultante\n",
        "print(df_temperaturas)"
      ]
    },
    {
      "cell_type": "markdown",
      "metadata": {
        "id": "f5oBXPqGeqSI"
      },
      "source": [
        "### **Ejercicio 10**\n",
        "--------\n",
        "10. Valor de las acciones de Apple. El documento CSV de este enlace, extraído de la web https://finance.yahoo.com, muestra el valor de las acciones de la empresa Apple en cada día laborable del último año. Este archivo contiene 7 atributos: *(2 puntos)*\n",
        "\n",
        "*   Date – Fecha del día.\n",
        "*   Open – Valor de la acción a la apertura del día.\n",
        "*   High – Valor más alto de la acción en el día.\n",
        "*   Low – Valor más bajo de la acción en el día.\n",
        "*   Close – Valor de la acción al cierre del día.\n",
        "*   Adj Close – Adjusted close price adjusted for splits and dividend and/or capital gain distributions.\n",
        "*   Volume – Volumen de compra/venta de acciones en el día.\n",
        "\n",
        "Para la importación y el uso del fichero CSV se debe utilizar la librería pandas.\n",
        "\n",
        "a) Crea un Dataframe que tenga las mismas columnas que el fichero CSV.\n",
        "\n",
        "b) Si invierto 100$ a la apertura del 01/06/2023 y vendo al cierre del 05/09/2023, ¿gano o pierdo?, ¿cuánto?\n",
        "\n",
        "c) Escribe un código para agregar las columnas con los valores mínimo, máximo, media y desviación estandar del Volumen de todo el año."
      ]
    },
    {
      "cell_type": "code",
      "execution_count": 20,
      "metadata": {
        "colab": {
          "base_uri": "https://localhost:8080/"
        },
        "id": "P0kqiQsGeqSI",
        "outputId": "d5c0db82-020e-4f0b-d9b5-66efb9b81a68"
      },
      "outputs": [
        {
          "name": "stdout",
          "output_type": "stream",
          "text": [
            "           Date        Open        High         Low       Close   Adj Close  \\\n",
            "0    2022-09-12  159.589996  164.259995  159.300003  163.429993  162.466171   \n",
            "1    2022-09-13  159.899994  160.539993  153.369995  153.839996  152.932739   \n",
            "2    2022-09-14  154.789993  157.100006  153.610001  155.309998  154.394073   \n",
            "3    2022-09-15  154.649994  155.240005  151.380005  152.369995  151.471420   \n",
            "4    2022-09-16  151.210007  151.350006  148.369995  150.699997  149.811264   \n",
            "..          ...         ...         ...         ...         ...         ...   \n",
            "247  2023-09-06  188.399994  188.850006  181.470001  182.910004  182.910004   \n",
            "248  2023-09-07  175.179993  178.210007  173.539993  177.559998  177.559998   \n",
            "249  2023-09-08  178.350006  180.240005  177.789993  178.179993  178.179993   \n",
            "250  2023-09-11  180.070007  180.300003  177.339996  179.360001  179.360001   \n",
            "251  2023-09-12  179.490005  180.119995  174.820007  176.300003  176.300003   \n",
            "\n",
            "        Volume  \n",
            "0    104956000  \n",
            "1    122656600  \n",
            "2     87965400  \n",
            "3     90481100  \n",
            "4    162278800  \n",
            "..         ...  \n",
            "247   81755800  \n",
            "248  112488800  \n",
            "249   65551300  \n",
            "250   58953100  \n",
            "251   88211615  \n",
            "\n",
            "[252 rows x 7 columns]\n",
            "Ganancia\n",
            "Valor: 6.75295453156366\n",
            "           Date        Open        High         Low       Close   Adj Close  \\\n",
            "0    2022-09-12  159.589996  164.259995  159.300003  163.429993  162.466171   \n",
            "1    2022-09-13  159.899994  160.539993  153.369995  153.839996  152.932739   \n",
            "2    2022-09-14  154.789993  157.100006  153.610001  155.309998  154.394073   \n",
            "3    2022-09-15  154.649994  155.240005  151.380005  152.369995  151.471420   \n",
            "4    2022-09-16  151.210007  151.350006  148.369995  150.699997  149.811264   \n",
            "..          ...         ...         ...         ...         ...         ...   \n",
            "247  2023-09-06  188.399994  188.850006  181.470001  182.910004  182.910004   \n",
            "248  2023-09-07  175.179993  178.210007  173.539993  177.559998  177.559998   \n",
            "249  2023-09-08  178.350006  180.240005  177.789993  178.179993  178.179993   \n",
            "250  2023-09-11  180.070007  180.300003  177.339996  179.360001  179.360001   \n",
            "251  2023-09-12  179.490005  180.119995  174.820007  176.300003  176.300003   \n",
            "\n",
            "        Volume  Volume_Min  Volume_Max   Volume_Mean    Volume_Std  \n",
            "0    104956000    31458200   164762400  6.951468e+07  2.406089e+07  \n",
            "1    122656600    31458200   164762400  6.951468e+07  2.406089e+07  \n",
            "2     87965400    31458200   164762400  6.951468e+07  2.406089e+07  \n",
            "3     90481100    31458200   164762400  6.951468e+07  2.406089e+07  \n",
            "4    162278800    31458200   164762400  6.951468e+07  2.406089e+07  \n",
            "..         ...         ...         ...           ...           ...  \n",
            "247   81755800    31458200   164762400  6.951468e+07  2.406089e+07  \n",
            "248  112488800    31458200   164762400  6.951468e+07  2.406089e+07  \n",
            "249   65551300    31458200   164762400  6.951468e+07  2.406089e+07  \n",
            "250   58953100    31458200   164762400  6.951468e+07  2.406089e+07  \n",
            "251   88211615    31458200   164762400  6.951468e+07  2.406089e+07  \n",
            "\n",
            "[252 rows x 11 columns]\n"
          ]
        }
      ],
      "source": [
        "# Importo el paquete pandas con el alias pd\n",
        "import pandas as pd\n",
        "\n",
        "# Inciso a)\n",
        "\n",
        "# Importo el archivo CSV y lo convierto en un DataFrame con las mismas columnas\n",
        "df_apple = pd.read_csv(\"AAPL_Finance.csv\")\n",
        "# Con la impresión del DataFrame original verifico las columnas\n",
        "print(df_apple)\n",
        "\n",
        "# Inciso b)\n",
        "\n",
        "# Extraigo los datos para las fechas dadas en el mismo formato que tiene el Dataframe\n",
        "precio_apertura = df_apple[df_apple['Date'] == '2023-06-01']['Open'].values[0]\n",
        "precio_cierre = df_apple[df_apple['Date'] == '2023-09-05']['Close'].values[0]\n",
        "\n",
        "# Calculo la ganancia o pérdida\n",
        "inversion_inicial = 100\n",
        "numero_acciones = inversion_inicial / precio_apertura\n",
        "valor_final = numero_acciones / precio_cierre\n",
        "ganancia_perdida = (numero_acciones * precio_cierre) - inversion_inicial\n",
        "# Si el valor es postivo indica una ganancia, por el contrario si es negativo es una pérdida\n",
        "if ganancia_perdida > 0:\n",
        "    print(\"Ganancia\")\n",
        "elif ganancia_perdida < 0:\n",
        "    print(\"Pérdida\")\n",
        "else:\n",
        "    print(\"Sin cambios\")\n",
        "print(\"Valor:\", ganancia_perdida)\n",
        "\n",
        "# Inciso c)\n",
        "\n",
        "# Creo y agrego columnas con los valores mínimo, máximo, media y desviación estándar del Volumen al DataFrame original\n",
        "df_apple['Volume_Min'] = df_apple['Volume'].min()\n",
        "df_apple['Volume_Max'] = df_apple['Volume'].max()\n",
        "df_apple['Volume_Mean'] = df_apple['Volume'].mean()\n",
        "df_apple['Volume_Std'] = df_apple['Volume'].std()\n",
        "# Imprimo el DataFrame resultante\n",
        "print(df_apple)"
      ]
    }
  ],
  "metadata": {
    "colab": {
      "provenance": []
    },
    "kernelspec": {
      "display_name": "Python 3 (ipykernel)",
      "language": "python",
      "name": "python3"
    },
    "language_info": {
      "codemirror_mode": {
        "name": "ipython",
        "version": 3
      },
      "file_extension": ".py",
      "mimetype": "text/x-python",
      "name": "python",
      "nbconvert_exporter": "python",
      "pygments_lexer": "ipython3",
      "version": "3.11.5"
    }
  },
  "nbformat": 4,
  "nbformat_minor": 0
}
